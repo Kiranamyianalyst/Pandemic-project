{
 "cells": [
  {
   "cell_type": "markdown",
   "id": "2c235b9d",
   "metadata": {},
   "source": [
    "6.  Write a Python program to find those numbers which are divisible by 7 and multiple of 5, between 1500 and 2700 (both included)"
   ]
  },
  {
   "cell_type": "code",
   "execution_count": 3,
   "id": "9a3ca8de",
   "metadata": {},
   "outputs": [
    {
     "name": "stdout",
     "output_type": "stream",
     "text": [
      "[1505, 1540, 1575, 1610, 1645, 1680, 1715, 1750, 1785, 1820, 1855, 1890, 1925, 1960, 1995, 2030, 2065, 2100, 2135, 2170, 2205, 2240, 2275, 2310, 2345, 2380, 2415, 2450, 2485, 2520, 2555, 2590, 2625, 2660, 2695]\n"
     ]
    }
   ],
   "source": [
    "newdata=[]\n",
    "for i in range(1500,2701):\n",
    "    if (i%7==0) and (i%5==0):\n",
    "        newdata.append(i)\n",
    "print(newdata)"
   ]
  },
  {
   "cell_type": "code",
   "execution_count": null,
   "id": "e7e61527",
   "metadata": {},
   "outputs": [],
   "source": []
  },
  {
   "cell_type": "markdown",
   "id": "a634eb45",
   "metadata": {},
   "source": [
    "7.  Write a Python program to construct the following pattern, using a nested for loop"
   ]
  },
  {
   "cell_type": "code",
   "execution_count": 1,
   "id": "57b0bcfc",
   "metadata": {},
   "outputs": [
    {
     "name": "stdout",
     "output_type": "stream",
     "text": [
      "\n",
      "* \n",
      "* * \n",
      "* * * \n",
      "* * * * \n",
      "* * * * * \n",
      "* * * * \n",
      "* * * \n",
      "* * \n",
      "* \n"
     ]
    }
   ],
   "source": [
    "n=5;\n",
    "for i in range(n):\n",
    "#     print(i)\n",
    "    for j in range(i):\n",
    "        print ('* ', end=\"\")\n",
    "    print('')\n",
    "\n",
    "for i in range(n,0,-1):\n",
    "#     print(i)\n",
    "    for j in range(i):\n",
    "        print('* ', end=\"\")\n",
    "    print('')"
   ]
  },
  {
   "cell_type": "markdown",
   "id": "2744b5d0",
   "metadata": {},
   "source": [
    "8.  Write a Python program that accepts a word from the user and reverse it"
   ]
  },
  {
   "cell_type": "code",
   "execution_count": 2,
   "id": "45788c12",
   "metadata": {},
   "outputs": [
    {
     "name": "stdout",
     "output_type": "stream",
     "text": [
      "give namekiran\n",
      "narik\n"
     ]
    }
   ],
   "source": [
    "i = input(\"give name\")\n",
    "print (i[::-1])"
   ]
  },
  {
   "cell_type": "code",
   "execution_count": null,
   "id": "d465a496",
   "metadata": {},
   "outputs": [],
   "source": [
    "9.   Write a \n",
    "Python program which iterates the integers from 1 to 50. For multiples of three print \"Fizz\" instead of the number and for \n",
    "the multiples of five print \"Buzz\". For numbers which are multiples of both three and five print \"FizzBuzz\".\n",
    "Sample Output :\n",
    "fizzbuzz\n",
    "1\n",
    "2\n",
    "fizz\n",
    "4\n",
    "buzz\n"
   ]
  },
  {
   "cell_type": "code",
   "execution_count": 10,
   "id": "7bba02ce",
   "metadata": {},
   "outputs": [
    {
     "name": "stdout",
     "output_type": "stream",
     "text": [
      "FizzBuzz\n",
      "1\n",
      "2\n",
      "Fizz\n",
      "4\n",
      "Buzz\n",
      "Fizz\n",
      "7\n",
      "8\n",
      "Fizz\n",
      "Buzz\n",
      "11\n",
      "Fizz\n",
      "13\n",
      "14\n",
      "FizzBuzz\n",
      "16\n",
      "17\n",
      "Fizz\n",
      "19\n",
      "Buzz\n",
      "Fizz\n",
      "22\n",
      "23\n",
      "Fizz\n",
      "Buzz\n",
      "26\n",
      "Fizz\n",
      "28\n",
      "29\n",
      "FizzBuzz\n",
      "31\n",
      "32\n",
      "Fizz\n",
      "34\n",
      "Buzz\n",
      "Fizz\n",
      "37\n",
      "38\n",
      "Fizz\n",
      "Buzz\n",
      "41\n",
      "Fizz\n",
      "43\n",
      "44\n",
      "FizzBuzz\n",
      "46\n",
      "47\n",
      "Fizz\n",
      "49\n",
      "Buzz\n"
     ]
    }
   ],
   "source": [
    "for i in range(51):\n",
    "    if i % 3 == 0 and i % 5 == 0:\n",
    "        print(\"FizzBuzz\")\n",
    "        continue\n",
    "    elif i % 3 == 0:\n",
    "        print(\"Fizz\")\n",
    "        continue\n",
    "    elif i % 5 == 0:\n",
    "        print(\"Buzz\")\n",
    "        continue\n",
    "    print(i)"
   ]
  },
  {
   "cell_type": "markdown",
   "id": "361364a9",
   "metadata": {},
   "source": [
    "10.  Write a Python program to calculate a dog's age in dog's years.\n",
    "Note: For the first two years, a dog year is equal to 10.5 human years. After that, each dog year equals 4 human years.\n",
    "Expected Output:\n",
    "Input a\n",
    " dog's age in human years: 15                                    \n",
    "The dog's age in dog's years is 73\n",
    "\n"
   ]
  },
  {
   "cell_type": "code",
   "execution_count": 2,
   "id": "e9c16e92",
   "metadata": {},
   "outputs": [
    {
     "name": "stdout",
     "output_type": "stream",
     "text": [
      "dog's age in human years12\n",
      "61\n"
     ]
    }
   ],
   "source": [
    "dog_age=int(input(\"dog's age in human years\"))\n",
    "if (dog_age<=2):\n",
    "    dog_human_age= (dog_age)*10.5\n",
    "    print(dog_human_age)\n",
    "else:\n",
    "    dog_human_age= ((dog_age-2)*4)+21\n",
    "    print(dog_human_age)"
   ]
  },
  {
   "cell_type": "code",
   "execution_count": null,
   "id": "18ed2964",
   "metadata": {},
   "outputs": [],
   "source": []
  },
  {
   "cell_type": "code",
   "execution_count": null,
   "id": "7d54a7a9",
   "metadata": {},
   "outputs": [],
   "source": []
  }
 ],
 "metadata": {
  "kernelspec": {
   "display_name": "Python 3 (ipykernel)",
   "language": "python",
   "name": "python3"
  },
  "language_info": {
   "codemirror_mode": {
    "name": "ipython",
    "version": 3
   },
   "file_extension": ".py",
   "mimetype": "text/x-python",
   "name": "python",
   "nbconvert_exporter": "python",
   "pygments_lexer": "ipython3",
   "version": "3.9.7"
  }
 },
 "nbformat": 4,
 "nbformat_minor": 5
}
